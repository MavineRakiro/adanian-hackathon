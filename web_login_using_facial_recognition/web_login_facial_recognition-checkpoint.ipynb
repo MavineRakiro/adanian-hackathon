{
 "cells": [
  {
   "cell_type": "code",
   "execution_count": null,
   "id": "2b379856",
   "metadata": {},
   "outputs": [],
   "source": [
    "#FACIAL RECOGNITION DESIGN FLOW.\n",
    "#Using computer vision(cv2) this program aims to detect faces with the aim to store them using the barest storage space.\n",
    "#This will be used to log in in to \"Developer's cult\"\n",
    "#Haar cascade is used for face detection(find attached the file in this repository.)\n",
    "\n",
    "#DESIGN FLOW.\n",
    "# 1. Launch camera(spoiler alert ikik) and run a while loop till a face is found.\n",
    "# 2. Convert color to grey for better results.\n",
    "# 3. Convert and scale. Draw a rectangle around the face to ensure detection has taken place. \n",
    "# 4. After facial recognition and data converion for storage, release the captured image and turn off camera. \n",
    "# .......\n",
    "# The image is divided into pixels and then encodded into a numpy array. (Image ois converted from numpy array to the equivalent image too.)\n",
    "# The stored(registered) image is then compared with the newly captured image using the numpy arrays\n"
   ]
  },
  {
   "cell_type": "code",
   "execution_count": 37,
   "id": "c6da2fbe",
   "metadata": {},
   "outputs": [
    {
     "name": "stdout",
     "output_type": "stream",
     "text": [
      "Requirement already satisfied: opencv-python in c:\\users\\admiin\\anaconda3\\lib\\site-packages (4.5.5.64)\n",
      "Requirement already satisfied: numpy>=1.19.3 in c:\\users\\admiin\\anaconda3\\lib\\site-packages (from opencv-python) (1.20.3)\n"
     ]
    }
   ],
   "source": [
    "!pip install opencv-python"
   ]
  },
  {
   "cell_type": "code",
   "execution_count": 38,
   "id": "178c9850",
   "metadata": {},
   "outputs": [
    {
     "name": "stdout",
     "output_type": "stream",
     "text": [
      "Requirement already satisfied: numpy in c:\\users\\admiin\\anaconda3\\lib\\site-packages (1.20.3)\n"
     ]
    }
   ],
   "source": [
    "!pip install numpy"
   ]
  },
  {
   "cell_type": "code",
   "execution_count": 104,
   "id": "c4c32791",
   "metadata": {},
   "outputs": [],
   "source": [
    "import cv2\n",
    "import numpy as np\n",
    "from keras.preprocessing import image\n",
    "from PIL import Image"
   ]
  },
  {
   "cell_type": "code",
   "execution_count": 128,
   "id": "4f723add",
   "metadata": {},
   "outputs": [
    {
     "name": "stderr",
     "output_type": "stream",
     "text": [
      "<>:8: SyntaxWarning: \"is\" with a literal. Did you mean \"==\"?\n",
      "<>:8: SyntaxWarning: \"is\" with a literal. Did you mean \"==\"?\n",
      "C:\\Users\\ADMIIN\\AppData\\Local\\Temp/ipykernel_8848/4135284741.py:8: SyntaxWarning: \"is\" with a literal. Did you mean \"==\"?\n",
      "  while faces is ():\n"
     ]
    }
   ],
   "source": [
    "faces = ()\n",
    "import sys\n",
    "import cv2\n",
    "cascPath = \"C:/Users/ADMIIN/Desktop/AI_login/harrcascade/haarcascade_frontalface_default.xml\"\n",
    "faceCascade = cv2.CascadeClassifier(cascPath)\n",
    "video_capture = cv2.VideoCapture(0)\n",
    "\n",
    "while faces is ():\n",
    "    ret, frame1 = video_capture.read()\n",
    "    gray = cv2.cvtColor(frame1, cv2.COLOR_BGR2GRAY)\n",
    "    \n",
    "    faces = faceCascade.detectMultiScale(\n",
    "    gray,\n",
    "    scaleFactor=1.1,\n",
    "    minNeighbors = 5,\n",
    "    minSize = (30, 30)\n",
    "    )\n",
    "    \n",
    "    for (x1, y1, w1, h1) in faces:\n",
    "        cv2.rectangle(frame1, (x1, y1), (x1+w1, y1+h1), (0, 255, 0), 2)\n",
    "        \n",
    "    cv2.imshow(\"Video\", frame1)\n",
    "    if cv2.waitKey(1) & 0xFF == ord('q'):\n",
    "        break\n",
    "    \n",
    "video_capture.release()\n",
    "faces = ()\n",
    "cv2.destroyAllWindows()\n",
    "    "
   ]
  },
  {
   "cell_type": "code",
   "execution_count": 110,
   "id": "a2961e0d",
   "metadata": {},
   "outputs": [
    {
     "data": {
      "text/plain": [
       "array([[[133, 124, 134],\n",
       "        [135, 125, 134],\n",
       "        [134, 123, 132],\n",
       "        ...,\n",
       "        [ 91,  92, 113],\n",
       "        [ 87,  90, 110],\n",
       "        [ 81,  87, 106]],\n",
       "\n",
       "       [[134, 125, 134],\n",
       "        [136, 126, 135],\n",
       "        [136, 125, 133],\n",
       "        ...,\n",
       "        [ 94,  93, 112],\n",
       "        [ 90,  92, 109],\n",
       "        [ 86,  90, 106]],\n",
       "\n",
       "       [[134, 126, 134],\n",
       "        [135, 126, 133],\n",
       "        [137, 127, 134],\n",
       "        ...,\n",
       "        [101,  97, 112],\n",
       "        [ 99,  99, 110],\n",
       "        [ 95,  96, 106]],\n",
       "\n",
       "       ...,\n",
       "\n",
       "       [[123, 120, 132],\n",
       "        [121, 118, 130],\n",
       "        [118, 115, 127],\n",
       "        ...,\n",
       "        [ 70,  63,  67],\n",
       "        [ 69,  63,  68],\n",
       "        [ 69,  64,  69]],\n",
       "\n",
       "       [[122, 121, 133],\n",
       "        [119, 118, 130],\n",
       "        [117, 116, 128],\n",
       "        ...,\n",
       "        [ 68,  62,  67],\n",
       "        [ 67,  63,  68],\n",
       "        [ 68,  65,  70]],\n",
       "\n",
       "       [[120, 120, 132],\n",
       "        [118, 118, 130],\n",
       "        [115, 115, 127],\n",
       "        ...,\n",
       "        [ 68,  63,  69],\n",
       "        [ 67,  64,  69],\n",
       "        [ 67,  66,  70]]], dtype=uint8)"
      ]
     },
     "execution_count": 110,
     "metadata": {},
     "output_type": "execute_result"
    }
   ],
   "source": [
    "frame1"
   ]
  },
  {
   "cell_type": "code",
   "execution_count": 78,
   "id": "57eb4a68",
   "metadata": {},
   "outputs": [
    {
     "name": "stdout",
     "output_type": "stream",
     "text": [
      "Requirement already satisfied: Image in c:\\users\\admiin\\anaconda3\\lib\\site-packages (1.5.33)\n",
      "Requirement already satisfied: django in c:\\users\\admiin\\anaconda3\\lib\\site-packages (from Image) (4.0.3)\n",
      "Requirement already satisfied: pillow in c:\\users\\admiin\\anaconda3\\lib\\site-packages (from Image) (8.4.0)\n",
      "Requirement already satisfied: six in c:\\users\\admiin\\anaconda3\\lib\\site-packages (from Image) (1.16.0)\n",
      "Requirement already satisfied: sqlparse>=0.2.2 in c:\\users\\admiin\\anaconda3\\lib\\site-packages (from django->Image) (0.4.2)\n",
      "Requirement already satisfied: asgiref<4,>=3.4.1 in c:\\users\\admiin\\anaconda3\\lib\\site-packages (from django->Image) (3.5.0)\n",
      "Requirement already satisfied: tzdata in c:\\users\\admiin\\anaconda3\\lib\\site-packages (from django->Image) (2021.5)\n"
     ]
    }
   ],
   "source": [
    "!pip install Image"
   ]
  },
  {
   "cell_type": "code",
   "execution_count": 111,
   "id": "8cc443f2",
   "metadata": {},
   "outputs": [],
   "source": [
    "im = Image.fromarray(frame1)\n",
    "im.save(\"me.jpeg\")"
   ]
  },
  {
   "cell_type": "code",
   "execution_count": 129,
   "id": "80e186e4",
   "metadata": {},
   "outputs": [
    {
     "name": "stderr",
     "output_type": "stream",
     "text": [
      "<>:5: SyntaxWarning: \"is\" with a literal. Did you mean \"==\"?\n",
      "<>:5: SyntaxWarning: \"is\" with a literal. Did you mean \"==\"?\n",
      "C:\\Users\\ADMIIN\\AppData\\Local\\Temp/ipykernel_8848/1178612647.py:5: SyntaxWarning: \"is\" with a literal. Did you mean \"==\"?\n",
      "  while faces1 is ():\n"
     ]
    },
    {
     "name": "stdout",
     "output_type": "stream",
     "text": [
      "[[266 266 123 123]]\n"
     ]
    }
   ],
   "source": [
    "faceCascade1 = cv2.CascadeClassifier(cascPath)\n",
    "faces1 = ()\n",
    "video_capture1 = cv2.VideoCapture(0)\n",
    "\n",
    "while faces1 is ():\n",
    "    ret1, frame2 = video_capture1.read()\n",
    "    gray = cv2.cvtColor(frame2, cv2.COLOR_BGR2GRAY)\n",
    "    \n",
    "    faces1 = faceCascade1.detectMultiScale(\n",
    "    gray,\n",
    "    scaleFactor=1.1,\n",
    "    minNeighbors = 5,\n",
    "    minSize = (30, 30)\n",
    "    )\n",
    "    \n",
    "    for (x2, y2, w2, h2) in faces1:\n",
    "        cv2.rectangle(frame2, (x2, y2), (x2+w2, y2+h2), (0, 255, 0), 2)\n",
    "        \n",
    "    cv2.imshow(\"Video\", frame2)\n",
    "    if cv2.waitKey(1) & 0xFF == ord('q'):\n",
    "        break\n",
    "    \n",
    "video_capture1.release()\n",
    "print(faces1)\n",
    "faces1 = ()\n",
    "cv2.destroyAllWindows()"
   ]
  },
  {
   "cell_type": "code",
   "execution_count": 113,
   "id": "fb3197b6",
   "metadata": {},
   "outputs": [],
   "source": [
    "# convert 3d array to 2d array for better precision\n",
    "frame1 = frame1[:,:,0]\n",
    "#crop registered image\n",
    "frame3 = frame1[y1:y1+h1,x1:x1+w1]"
   ]
  },
  {
   "cell_type": "code",
   "execution_count": 114,
   "id": "fa6f9b8b",
   "metadata": {},
   "outputs": [],
   "source": [
    "frame2 = frame2[:,:,0]\n",
    "#crop testing image.\n",
    "frame4 = frame2[y2:y2+h2,x2:x2+w2]"
   ]
  },
  {
   "cell_type": "code",
   "execution_count": 115,
   "id": "aa4d0124",
   "metadata": {},
   "outputs": [],
   "source": [
    "im = Image.fromarray(frame3)\n",
    "im.save(\"me3.jpeg\")\n",
    "im = Image.fromarray(frame4)\n",
    "im.save(\"me2.jpeg\")\n"
   ]
  },
  {
   "cell_type": "code",
   "execution_count": 116,
   "id": "a860ccbc",
   "metadata": {},
   "outputs": [],
   "source": [
    "registered_face = []\n",
    "new_face = []\n",
    "\n",
    "# Lists are easier to iterate so we pass the 2d elements to list.\n",
    "for v in np.nditer(frame3):\n",
    "    registered_face.append(v)\n",
    "for w in np.nditer(frame4):\n",
    "    new_face.append(w)"
   ]
  },
  {
   "cell_type": "code",
   "execution_count": 117,
   "id": "f0018aac",
   "metadata": {},
   "outputs": [],
   "source": [
    "if(len(registered_face)>=len(new_face)):\n",
    "    leng = len(new_face)\n",
    "else:\n",
    "    leng = len(registered_face)"
   ]
  },
  {
   "cell_type": "code",
   "execution_count": 118,
   "id": "ad707177",
   "metadata": {},
   "outputs": [],
   "source": [
    "q=0\n",
    "for i in range(leng):\n",
    "    registered_face[i] = (registered_face[i]/10).astype(int)\n",
    "    new_face[i] = (new_face[i]/10).astype(int)\n",
    "    if registered_face[i] == new_face[i] :\n",
    "        q=q+1\n",
    "    "
   ]
  },
  {
   "cell_type": "code",
   "execution_count": 130,
   "id": "22351966",
   "metadata": {},
   "outputs": [
    {
     "data": {
      "text/plain": [
       "0.14946502057613167"
      ]
     },
     "execution_count": 130,
     "metadata": {},
     "output_type": "execute_result"
    }
   ],
   "source": [
    "q/leng"
   ]
  },
  {
   "cell_type": "code",
   "execution_count": 123,
   "id": "9451ba28",
   "metadata": {},
   "outputs": [
    {
     "name": "stderr",
     "output_type": "stream",
     "text": [
      "<>:6: SyntaxWarning: \"is\" with a literal. Did you mean \"==\"?\n",
      "<>:6: SyntaxWarning: \"is\" with a literal. Did you mean \"==\"?\n",
      "C:\\Users\\ADMIIN\\AppData\\Local\\Temp/ipykernel_8848/3064247569.py:6: SyntaxWarning: \"is\" with a literal. Did you mean \"==\"?\n",
      "  while faces3 is ():\n"
     ]
    }
   ],
   "source": [
    "faceCascade3 = cv2.CascadeClassifier(cascPath)\n",
    "faces3 = ()\n",
    "video_capture3 = cv2.VideoCapture(0)\n",
    "train_list = []\n",
    "\n",
    "while faces3 is ():\n",
    "    ret3, frame_train = video_capture3.read()\n",
    "    gray = cv2.cvtColor(frame_train, cv2.COLOR_BGR2GRAY)\n",
    "    \n",
    "    faces3 = faceCascade1.detectMultiScale(\n",
    "        gray,\n",
    "        scaleFactor=1.1,\n",
    "        minNeighbors = 5,\n",
    "        minSize = (30, 30)\n",
    "    )\n",
    "    \n",
    "    for (x_t, y_t, w_t, h_t) in faces3:\n",
    "        cv2.rectangle(frame_train, (x_t, y_t), (x_t+w_t, y_t+h_t), (0, 255, 0), 2)\n",
    "        \n",
    "    cv2.imshow(\"Video\", frame_train)\n",
    "    if cv2.waitKey(1) & 0xFF == ord('q'):\n",
    "        break\n",
    "    \n",
    "video_capture3.release()\n",
    "faces3 = ()\n",
    "cv2.destroyAllWindows()\n",
    "\n",
    "frame_train = frame_train[:,:,0]\n",
    "frame_train = frame_train[y_t:y_t+h_t,x_t:x_t+w_t]\n",
    "\n",
    "for v in np.nditer(frame_train):\n",
    "    train_list.append(v)\n"
   ]
  },
  {
   "cell_type": "code",
   "execution_count": null,
   "id": "8fa072fa",
   "metadata": {},
   "outputs": [],
   "source": [
    "# At best, the facial recognition is 0.37 accurate and therefore needs more training time. "
   ]
  }
 ],
 "metadata": {
  "kernelspec": {
   "display_name": "Python 3 (ipykernel)",
   "language": "python",
   "name": "python3"
  },
  "language_info": {
   "codemirror_mode": {
    "name": "ipython",
    "version": 3
   },
   "file_extension": ".py",
   "mimetype": "text/x-python",
   "name": "python",
   "nbconvert_exporter": "python",
   "pygments_lexer": "ipython3",
   "version": "3.9.7"
  }
 },
 "nbformat": 4,
 "nbformat_minor": 5
}
